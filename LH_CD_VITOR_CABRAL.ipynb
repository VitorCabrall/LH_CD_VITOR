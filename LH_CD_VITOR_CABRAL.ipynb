{
  "cells": [
    {
      "cell_type": "markdown",
      "metadata": {
        "id": "DjuWbQRWAU_a"
      },
      "source": [
        "# Teste Prático Ciência de dados Lighthouse\n",
        "\n",
        "\n",
        "O projeto desenvolvido abaixo consiste em 5 etapas:\n",
        "\n",
        "1. **Importação e Tratamento dos Dados**\n",
        "   - Nesta etapa, é realizado a importação dos dados do github, verificando a presença de valores nulos e os tipos de cada variável.\n",
        "\n",
        "2. **Análise Exploratória**\n",
        "   - Exploração dos dados para obter insights iniciais, estatísticas descritivas e compreensão geral do conjunto de dados.\n",
        "\n",
        "3. **Identificação das Regiões Mais Bem Avaliadas**\n",
        "   - Analise os dados para identificar as regiões que apresentam maior quantidade de avaliações mensais, além do preço.\n",
        "\n",
        "4. **Visualização de Correlações entre as Variáveis**\n",
        "   - Utilização de um mapa de calor para identificar o grau de correlação entre algumas variáveis.\n",
        "\n",
        "5. **Criação de um Modelo Regressivo para Inferência de Preços**\n",
        "   - Nesta ultima etapa é realizada a construção de um modelo regressivo para inferir os preços da diária dos imóveis. Durante a construção é realizada a etapa de separação, treinamento e validação do modelo gerado.\n",
        "\n",
        "Este projeto foi desenvolvido por Vitor Cabral, qualquer dúvida estou a disposição no linkedin https://www.linkedin.com/in/v%C3%ADtorcabral/ =) !\n",
        "\n"
      ]
    },
    {
      "cell_type": "markdown",
      "metadata": {
        "id": "EE60M91IAcAi"
      },
      "source": [
        "## Importação dados"
      ]
    },
    {
      "cell_type": "code",
      "execution_count": 89,
      "metadata": {
        "id": "qbAnH9oDBGQ5"
      },
      "outputs": [],
      "source": [
        "# Utilizando o módulo Pandas para importar os dados para um dataframe\n",
        "import pandas as pd\n",
        "\n",
        "url = 'https://raw.githubusercontent.com/VitorCabrall/LH_CD_VITOR/d0a335657f40fe2f452d2190f02c02e36368d1d8/teste_indicium_precificacao.csv'\n",
        "\n",
        "df = pd.read_csv(url)"
      ]
    },
    {
      "cell_type": "code",
      "execution_count": 90,
      "metadata": {
        "colab": {
          "base_uri": "https://localhost:8080/"
        },
        "id": "XUxMebySDZOz",
        "outputId": "3520ede6-01b2-49a3-e5f2-6206a8c35527"
      },
      "outputs": [
        {
          "data": {
            "text/html": [
              "<div>\n",
              "<style scoped>\n",
              "    .dataframe tbody tr th:only-of-type {\n",
              "        vertical-align: middle;\n",
              "    }\n",
              "\n",
              "    .dataframe tbody tr th {\n",
              "        vertical-align: top;\n",
              "    }\n",
              "\n",
              "    .dataframe thead th {\n",
              "        text-align: right;\n",
              "    }\n",
              "</style>\n",
              "<table border=\"1\" class=\"dataframe\">\n",
              "  <thead>\n",
              "    <tr style=\"text-align: right;\">\n",
              "      <th></th>\n",
              "      <th>id</th>\n",
              "      <th>nome</th>\n",
              "      <th>host_id</th>\n",
              "      <th>host_name</th>\n",
              "      <th>bairro_group</th>\n",
              "      <th>bairro</th>\n",
              "      <th>latitude</th>\n",
              "      <th>longitude</th>\n",
              "      <th>room_type</th>\n",
              "      <th>price</th>\n",
              "      <th>minimo_noites</th>\n",
              "      <th>numero_de_reviews</th>\n",
              "      <th>ultima_review</th>\n",
              "      <th>reviews_por_mes</th>\n",
              "      <th>calculado_host_listings_count</th>\n",
              "      <th>disponibilidade_365</th>\n",
              "    </tr>\n",
              "  </thead>\n",
              "  <tbody>\n",
              "    <tr>\n",
              "      <th>0</th>\n",
              "      <td>2595</td>\n",
              "      <td>Skylit Midtown Castle</td>\n",
              "      <td>2845</td>\n",
              "      <td>Jennifer</td>\n",
              "      <td>Manhattan</td>\n",
              "      <td>Midtown</td>\n",
              "      <td>40.75362</td>\n",
              "      <td>-73.98377</td>\n",
              "      <td>Entire home/apt</td>\n",
              "      <td>225</td>\n",
              "      <td>1</td>\n",
              "      <td>45</td>\n",
              "      <td>2019-05-21</td>\n",
              "      <td>0.38</td>\n",
              "      <td>2</td>\n",
              "      <td>355</td>\n",
              "    </tr>\n",
              "    <tr>\n",
              "      <th>1</th>\n",
              "      <td>3647</td>\n",
              "      <td>THE VILLAGE OF HARLEM....NEW YORK !</td>\n",
              "      <td>4632</td>\n",
              "      <td>Elisabeth</td>\n",
              "      <td>Manhattan</td>\n",
              "      <td>Harlem</td>\n",
              "      <td>40.80902</td>\n",
              "      <td>-73.94190</td>\n",
              "      <td>Private room</td>\n",
              "      <td>150</td>\n",
              "      <td>3</td>\n",
              "      <td>0</td>\n",
              "      <td>NaN</td>\n",
              "      <td>NaN</td>\n",
              "      <td>1</td>\n",
              "      <td>365</td>\n",
              "    </tr>\n",
              "    <tr>\n",
              "      <th>2</th>\n",
              "      <td>3831</td>\n",
              "      <td>Cozy Entire Floor of Brownstone</td>\n",
              "      <td>4869</td>\n",
              "      <td>LisaRoxanne</td>\n",
              "      <td>Brooklyn</td>\n",
              "      <td>Clinton Hill</td>\n",
              "      <td>40.68514</td>\n",
              "      <td>-73.95976</td>\n",
              "      <td>Entire home/apt</td>\n",
              "      <td>89</td>\n",
              "      <td>1</td>\n",
              "      <td>270</td>\n",
              "      <td>2019-07-05</td>\n",
              "      <td>4.64</td>\n",
              "      <td>1</td>\n",
              "      <td>194</td>\n",
              "    </tr>\n",
              "  </tbody>\n",
              "</table>\n",
              "</div>"
            ],
            "text/plain": [
              "     id                                 nome  host_id    host_name  \\\n",
              "0  2595                Skylit Midtown Castle     2845     Jennifer   \n",
              "1  3647  THE VILLAGE OF HARLEM....NEW YORK !     4632    Elisabeth   \n",
              "2  3831      Cozy Entire Floor of Brownstone     4869  LisaRoxanne   \n",
              "\n",
              "  bairro_group        bairro  latitude  longitude        room_type  price  \\\n",
              "0    Manhattan       Midtown  40.75362  -73.98377  Entire home/apt    225   \n",
              "1    Manhattan        Harlem  40.80902  -73.94190     Private room    150   \n",
              "2     Brooklyn  Clinton Hill  40.68514  -73.95976  Entire home/apt     89   \n",
              "\n",
              "   minimo_noites  numero_de_reviews ultima_review  reviews_por_mes  \\\n",
              "0              1                 45    2019-05-21             0.38   \n",
              "1              3                  0           NaN              NaN   \n",
              "2              1                270    2019-07-05             4.64   \n",
              "\n",
              "   calculado_host_listings_count  disponibilidade_365  \n",
              "0                              2                  355  \n",
              "1                              1                  365  \n",
              "2                              1                  194  "
            ]
          },
          "execution_count": 90,
          "metadata": {},
          "output_type": "execute_result"
        }
      ],
      "source": [
        "df.head(3)"
      ]
    },
    {
      "cell_type": "markdown",
      "metadata": {},
      "source": [
        "## Análise exploratória"
      ]
    },
    {
      "cell_type": "code",
      "execution_count": 91,
      "metadata": {},
      "outputs": [
        {
          "data": {
            "text/html": [
              "<div>\n",
              "<style scoped>\n",
              "    .dataframe tbody tr th:only-of-type {\n",
              "        vertical-align: middle;\n",
              "    }\n",
              "\n",
              "    .dataframe tbody tr th {\n",
              "        vertical-align: top;\n",
              "    }\n",
              "\n",
              "    .dataframe thead th {\n",
              "        text-align: right;\n",
              "    }\n",
              "</style>\n",
              "<table border=\"1\" class=\"dataframe\">\n",
              "  <thead>\n",
              "    <tr style=\"text-align: right;\">\n",
              "      <th></th>\n",
              "      <th>id</th>\n",
              "      <th>host_id</th>\n",
              "      <th>latitude</th>\n",
              "      <th>longitude</th>\n",
              "      <th>price</th>\n",
              "      <th>minimo_noites</th>\n",
              "      <th>numero_de_reviews</th>\n",
              "      <th>reviews_por_mes</th>\n",
              "      <th>calculado_host_listings_count</th>\n",
              "      <th>disponibilidade_365</th>\n",
              "    </tr>\n",
              "  </thead>\n",
              "  <tbody>\n",
              "    <tr>\n",
              "      <th>count</th>\n",
              "      <td>4.889400e+04</td>\n",
              "      <td>4.889400e+04</td>\n",
              "      <td>48894.000000</td>\n",
              "      <td>48894.000000</td>\n",
              "      <td>48894.000000</td>\n",
              "      <td>48894.000000</td>\n",
              "      <td>48894.000000</td>\n",
              "      <td>38842.000000</td>\n",
              "      <td>48894.000000</td>\n",
              "      <td>48894.000000</td>\n",
              "    </tr>\n",
              "    <tr>\n",
              "      <th>mean</th>\n",
              "      <td>1.901753e+07</td>\n",
              "      <td>6.762139e+07</td>\n",
              "      <td>40.728951</td>\n",
              "      <td>-73.952169</td>\n",
              "      <td>152.720763</td>\n",
              "      <td>7.030085</td>\n",
              "      <td>23.274758</td>\n",
              "      <td>1.373251</td>\n",
              "      <td>7.144005</td>\n",
              "      <td>112.776169</td>\n",
              "    </tr>\n",
              "    <tr>\n",
              "      <th>std</th>\n",
              "      <td>1.098288e+07</td>\n",
              "      <td>7.861118e+07</td>\n",
              "      <td>0.054529</td>\n",
              "      <td>0.046157</td>\n",
              "      <td>240.156625</td>\n",
              "      <td>20.510741</td>\n",
              "      <td>44.550991</td>\n",
              "      <td>1.680453</td>\n",
              "      <td>32.952855</td>\n",
              "      <td>131.618692</td>\n",
              "    </tr>\n",
              "    <tr>\n",
              "      <th>min</th>\n",
              "      <td>2.595000e+03</td>\n",
              "      <td>2.438000e+03</td>\n",
              "      <td>40.499790</td>\n",
              "      <td>-74.244420</td>\n",
              "      <td>0.000000</td>\n",
              "      <td>1.000000</td>\n",
              "      <td>0.000000</td>\n",
              "      <td>0.010000</td>\n",
              "      <td>1.000000</td>\n",
              "      <td>0.000000</td>\n",
              "    </tr>\n",
              "    <tr>\n",
              "      <th>25%</th>\n",
              "      <td>9.472371e+06</td>\n",
              "      <td>7.822737e+06</td>\n",
              "      <td>40.690100</td>\n",
              "      <td>-73.983070</td>\n",
              "      <td>69.000000</td>\n",
              "      <td>1.000000</td>\n",
              "      <td>1.000000</td>\n",
              "      <td>0.190000</td>\n",
              "      <td>1.000000</td>\n",
              "      <td>0.000000</td>\n",
              "    </tr>\n",
              "    <tr>\n",
              "      <th>50%</th>\n",
              "      <td>1.967743e+07</td>\n",
              "      <td>3.079553e+07</td>\n",
              "      <td>40.723075</td>\n",
              "      <td>-73.955680</td>\n",
              "      <td>106.000000</td>\n",
              "      <td>3.000000</td>\n",
              "      <td>5.000000</td>\n",
              "      <td>0.720000</td>\n",
              "      <td>1.000000</td>\n",
              "      <td>45.000000</td>\n",
              "    </tr>\n",
              "    <tr>\n",
              "      <th>75%</th>\n",
              "      <td>2.915225e+07</td>\n",
              "      <td>1.074344e+08</td>\n",
              "      <td>40.763117</td>\n",
              "      <td>-73.936273</td>\n",
              "      <td>175.000000</td>\n",
              "      <td>5.000000</td>\n",
              "      <td>24.000000</td>\n",
              "      <td>2.020000</td>\n",
              "      <td>2.000000</td>\n",
              "      <td>227.000000</td>\n",
              "    </tr>\n",
              "    <tr>\n",
              "      <th>max</th>\n",
              "      <td>3.648724e+07</td>\n",
              "      <td>2.743213e+08</td>\n",
              "      <td>40.913060</td>\n",
              "      <td>-73.712990</td>\n",
              "      <td>10000.000000</td>\n",
              "      <td>1250.000000</td>\n",
              "      <td>629.000000</td>\n",
              "      <td>58.500000</td>\n",
              "      <td>327.000000</td>\n",
              "      <td>365.000000</td>\n",
              "    </tr>\n",
              "  </tbody>\n",
              "</table>\n",
              "</div>"
            ],
            "text/plain": [
              "                 id       host_id      latitude     longitude         price  \\\n",
              "count  4.889400e+04  4.889400e+04  48894.000000  48894.000000  48894.000000   \n",
              "mean   1.901753e+07  6.762139e+07     40.728951    -73.952169    152.720763   \n",
              "std    1.098288e+07  7.861118e+07      0.054529      0.046157    240.156625   \n",
              "min    2.595000e+03  2.438000e+03     40.499790    -74.244420      0.000000   \n",
              "25%    9.472371e+06  7.822737e+06     40.690100    -73.983070     69.000000   \n",
              "50%    1.967743e+07  3.079553e+07     40.723075    -73.955680    106.000000   \n",
              "75%    2.915225e+07  1.074344e+08     40.763117    -73.936273    175.000000   \n",
              "max    3.648724e+07  2.743213e+08     40.913060    -73.712990  10000.000000   \n",
              "\n",
              "       minimo_noites  numero_de_reviews  reviews_por_mes  \\\n",
              "count   48894.000000       48894.000000     38842.000000   \n",
              "mean        7.030085          23.274758         1.373251   \n",
              "std        20.510741          44.550991         1.680453   \n",
              "min         1.000000           0.000000         0.010000   \n",
              "25%         1.000000           1.000000         0.190000   \n",
              "50%         3.000000           5.000000         0.720000   \n",
              "75%         5.000000          24.000000         2.020000   \n",
              "max      1250.000000         629.000000        58.500000   \n",
              "\n",
              "       calculado_host_listings_count  disponibilidade_365  \n",
              "count                   48894.000000         48894.000000  \n",
              "mean                        7.144005           112.776169  \n",
              "std                        32.952855           131.618692  \n",
              "min                         1.000000             0.000000  \n",
              "25%                         1.000000             0.000000  \n",
              "50%                         1.000000            45.000000  \n",
              "75%                         2.000000           227.000000  \n",
              "max                       327.000000           365.000000  "
            ]
          },
          "execution_count": 91,
          "metadata": {},
          "output_type": "execute_result"
        }
      ],
      "source": [
        "df.describe()"
      ]
    },
    {
      "cell_type": "markdown",
      "metadata": {},
      "source": [
        "É possível identificar que há a presença de preços igual a 0 e disponibilidade igual a 0"
      ]
    },
    {
      "cell_type": "code",
      "execution_count": 92,
      "metadata": {},
      "outputs": [
        {
          "name": "stdout",
          "output_type": "stream",
          "text": [
            "11\n"
          ]
        }
      ],
      "source": [
        "# Quantidade de preços igual a 0\n",
        "print(df[df[\"price\"]<1].count().max())"
      ]
    },
    {
      "cell_type": "code",
      "execution_count": 93,
      "metadata": {},
      "outputs": [],
      "source": [
        "# Removendo preços zerados\n",
        "df = df[df[\"price\"]>=1]"
      ]
    },
    {
      "cell_type": "code",
      "execution_count": 94,
      "metadata": {},
      "outputs": [
        {
          "data": {
            "text/plain": [
              "17530"
            ]
          },
          "execution_count": 94,
          "metadata": {},
          "output_type": "execute_result"
        }
      ],
      "source": [
        "# Quantidade de disponibilidades igual a 0\n",
        "df[df[\"disponibilidade_365\"]<1].count().max()"
      ]
    },
    {
      "cell_type": "markdown",
      "metadata": {},
      "source": [
        "### Locais com disponibilidade igual a 0 não devem ser considerados para a aquisição de alugueis"
      ]
    },
    {
      "cell_type": "markdown",
      "metadata": {},
      "source": [
        "### Distribuição dos preços:"
      ]
    },
    {
      "cell_type": "code",
      "execution_count": 95,
      "metadata": {},
      "outputs": [
        {
          "data": {
            "text/plain": [
              "<Axes: >"
            ]
          },
          "execution_count": 95,
          "metadata": {},
          "output_type": "execute_result"
        },
        {
          "data": {
            "image/png": "[encoded data removed]",
            "text/plain": [
              "<Figure size 640x480 with 1 Axes>"
            ]
          },
          "metadata": {},
          "output_type": "display_data"
        }
      ],
      "source": [
        "#Total\n",
        "df['price'].hist(bins=200)"
      ]
    },
    {
      "cell_type": "code",
      "execution_count": 96,
      "metadata": {},
      "outputs": [
        {
          "data": {
            "text/plain": [
              "<Axes: >"
            ]
          },
          "execution_count": 96,
          "metadata": {},
          "output_type": "execute_result"
        },
        {
          "data": {
            "image/png": "[encoded data removed]",
            "text/plain": [
              "<Figure size 640x480 with 1 Axes>"
            ]
          },
          "metadata": {},
          "output_type": "display_data"
        }
      ],
      "source": [
        "#Preço abaixo de 1500\n",
        "df[df['price']<= 1500][\"price\"].hist(bins=200)"
      ]
    },
    {
      "cell_type": "markdown",
      "metadata": {},
      "source": [
        "A maior concentração dos dados está na faixa de preço até R$ 400,00. Isso é um ponto de atenção durante o processo de treinamento do modelo pelo impacto dos outliers"
      ]
    },
    {
      "cell_type": "code",
      "execution_count": 97,
      "metadata": {},
      "outputs": [
        {
          "name": "stdout",
          "output_type": "stream",
          "text": [
            "<class 'pandas.core.frame.DataFrame'>\n",
            "Index: 48883 entries, 0 to 48893\n",
            "Data columns (total 16 columns):\n",
            " #   Column                         Non-Null Count  Dtype  \n",
            "---  ------                         --------------  -----  \n",
            " 0   id                             48883 non-null  int64  \n",
            " 1   nome                           48867 non-null  object \n",
            " 2   host_id                        48883 non-null  int64  \n",
            " 3   host_name                      48862 non-null  object \n",
            " 4   bairro_group                   48883 non-null  object \n",
            " 5   bairro                         48883 non-null  object \n",
            " 6   latitude                       48883 non-null  float64\n",
            " 7   longitude                      48883 non-null  float64\n",
            " 8   room_type                      48883 non-null  object \n",
            " 9   price                          48883 non-null  int64  \n",
            " 10  minimo_noites                  48883 non-null  int64  \n",
            " 11  numero_de_reviews              48883 non-null  int64  \n",
            " 12  ultima_review                  38832 non-null  object \n",
            " 13  reviews_por_mes                38832 non-null  float64\n",
            " 14  calculado_host_listings_count  48883 non-null  int64  \n",
            " 15  disponibilidade_365            48883 non-null  int64  \n",
            "dtypes: float64(3), int64(7), object(6)\n",
            "memory usage: 6.3+ MB\n"
          ]
        }
      ],
      "source": [
        "df.info()"
      ]
    },
    {
      "cell_type": "markdown",
      "metadata": {},
      "source": [
        "A coluna ultima_review está com o tipo errado, sendo o correto:\n",
        "- ultima_review:  object - >  datetime\n",
        "\n",
        "Caso seja necessário trabalhar com esse dado abaixo, estarei realizando a mudança"
      ]
    },
    {
      "cell_type": "markdown",
      "metadata": {},
      "source": [
        "### Indentificando valores nulos"
      ]
    },
    {
      "cell_type": "code",
      "execution_count": 98,
      "metadata": {},
      "outputs": [
        {
          "data": {
            "text/plain": [
              "id                                   0\n",
              "nome                                16\n",
              "host_id                              0\n",
              "host_name                           21\n",
              "bairro_group                         0\n",
              "bairro                               0\n",
              "latitude                             0\n",
              "longitude                            0\n",
              "room_type                            0\n",
              "price                                0\n",
              "minimo_noites                        0\n",
              "numero_de_reviews                    0\n",
              "ultima_review                    10051\n",
              "reviews_por_mes                  10051\n",
              "calculado_host_listings_count        0\n",
              "disponibilidade_365                  0\n",
              "dtype: int64"
            ]
          },
          "execution_count": 98,
          "metadata": {},
          "output_type": "execute_result"
        }
      ],
      "source": [
        "df.isnull().sum()"
      ]
    },
    {
      "cell_type": "code",
      "execution_count": 99,
      "metadata": {},
      "outputs": [
        {
          "name": "stdout",
          "output_type": "stream",
          "text": [
            "20.56% dos dados de ultima_review e reviews_por_mes estão vazios\n"
          ]
        }
      ],
      "source": [
        "print(\"{:.2f}% dos dados de ultima_review e reviews_por_mes estão vazios\".format(df[\"reviews_por_mes\"].isnull().sum() * 100 / df[\"id\"].count()))"
      ]
    },
    {
      "cell_type": "markdown",
      "metadata": {},
      "source": [
        "## Locais mais bem avaliados"
      ]
    },
    {
      "cell_type": "code",
      "execution_count": 100,
      "metadata": {},
      "outputs": [
        {
          "data": {
            "text/plain": [
              "id                                0\n",
              "nome                              6\n",
              "host_id                           0\n",
              "host_name                        16\n",
              "bairro_group                      0\n",
              "bairro                            0\n",
              "latitude                          0\n",
              "longitude                         0\n",
              "room_type                         0\n",
              "price                             0\n",
              "minimo_noites                     0\n",
              "numero_de_reviews                 0\n",
              "ultima_review                     0\n",
              "reviews_por_mes                   0\n",
              "calculado_host_listings_count     0\n",
              "disponibilidade_365               0\n",
              "dtype: int64"
            ]
          },
          "execution_count": 100,
          "metadata": {},
          "output_type": "execute_result"
        }
      ],
      "source": [
        "## Tendo em vista que 20% dos dados estão vazios referente as reviews, irei retirar estes dados para poder calcular o locais com melhor avaliação\n",
        "\n",
        "df_review = df[~df[\"reviews_por_mes\"].isnull()]\n",
        "df_review.isnull().sum()"
      ]
    },
    {
      "cell_type": "code",
      "execution_count": 101,
      "metadata": {},
      "outputs": [
        {
          "data": {
            "text/plain": [
              "array(['Entire home/apt', 'Private room', 'Shared room'], dtype=object)"
            ]
          },
          "execution_count": 101,
          "metadata": {},
          "output_type": "execute_result"
        }
      ],
      "source": [
        "# Identificando os tipos de imóveis\n",
        "\n",
        "df_review['room_type'].unique()"
      ]
    },
    {
      "cell_type": "code",
      "execution_count": 102,
      "metadata": {},
      "outputs": [],
      "source": [
        "# Como o cliente está interassado em buscar um apartamento para alugar, iremos filtrar para apenas os tipo 'Entire home/apt'\n",
        "\n",
        "df_review = df_review[df_review['room_type']=='Entire home/apt']"
      ]
    },
    {
      "cell_type": "code",
      "execution_count": 103,
      "metadata": {},
      "outputs": [
        {
          "data": {
            "text/html": [
              "<div>\n",
              "<style scoped>\n",
              "    .dataframe tbody tr th:only-of-type {\n",
              "        vertical-align: middle;\n",
              "    }\n",
              "\n",
              "    .dataframe tbody tr th {\n",
              "        vertical-align: top;\n",
              "    }\n",
              "\n",
              "    .dataframe thead th {\n",
              "        text-align: right;\n",
              "    }\n",
              "</style>\n",
              "<table border=\"1\" class=\"dataframe\">\n",
              "  <thead>\n",
              "    <tr style=\"text-align: right;\">\n",
              "      <th></th>\n",
              "      <th>reviews_por_mes</th>\n",
              "      <th>price</th>\n",
              "    </tr>\n",
              "    <tr>\n",
              "      <th>bairro_group</th>\n",
              "      <th></th>\n",
              "      <th></th>\n",
              "    </tr>\n",
              "  </thead>\n",
              "  <tbody>\n",
              "    <tr>\n",
              "      <th>Bronx</th>\n",
              "      <td>2.238123</td>\n",
              "      <td>120.789644</td>\n",
              "    </tr>\n",
              "    <tr>\n",
              "      <th>Staten Island</th>\n",
              "      <td>2.074400</td>\n",
              "      <td>125.366667</td>\n",
              "    </tr>\n",
              "    <tr>\n",
              "      <th>Queens</th>\n",
              "      <td>1.967302</td>\n",
              "      <td>139.225603</td>\n",
              "    </tr>\n",
              "    <tr>\n",
              "      <th>Brooklyn</th>\n",
              "      <td>1.317773</td>\n",
              "      <td>171.270244</td>\n",
              "    </tr>\n",
              "    <tr>\n",
              "      <th>Manhattan</th>\n",
              "      <td>1.141610</td>\n",
              "      <td>230.190830</td>\n",
              "    </tr>\n",
              "  </tbody>\n",
              "</table>\n",
              "</div>"
            ],
            "text/plain": [
              "               reviews_por_mes       price\n",
              "bairro_group                              \n",
              "Bronx                 2.238123  120.789644\n",
              "Staten Island         2.074400  125.366667\n",
              "Queens                1.967302  139.225603\n",
              "Brooklyn              1.317773  171.270244\n",
              "Manhattan             1.141610  230.190830"
            ]
          },
          "execution_count": 103,
          "metadata": {},
          "output_type": "execute_result"
        }
      ],
      "source": [
        "## Agrupando por região\n",
        "\n",
        "df_avaliações_região = df_review[['bairro_group','reviews_por_mes','price']]\\\n",
        "    .groupby(['bairro_group'])\\\n",
        "        .mean()\\\n",
        "        .sort_values(by=['reviews_por_mes','price'],ascending=False)\n",
        "\n",
        "df_avaliações_região"
      ]
    },
    {
      "cell_type": "markdown",
      "metadata": {},
      "source": [
        "### Podemos observar que os apartamentos do Bronx possuem uma maior quantidade de reviews mensais e com um menor preço"
      ]
    },
    {
      "cell_type": "markdown",
      "metadata": {},
      "source": [
        "## Identificando o melhor local disponível para alguel"
      ]
    },
    {
      "cell_type": "code",
      "execution_count": 104,
      "metadata": {},
      "outputs": [],
      "source": [
        "# Somente podemos considerar locais onde a disponibilidade é maior que 1\n",
        "\n",
        "df_review_disp = df_review[df_review['disponibilidade_365']>1]"
      ]
    },
    {
      "cell_type": "code",
      "execution_count": 105,
      "metadata": {},
      "outputs": [
        {
          "data": {
            "text/html": [
              "<div>\n",
              "<style scoped>\n",
              "    .dataframe tbody tr th:only-of-type {\n",
              "        vertical-align: middle;\n",
              "    }\n",
              "\n",
              "    .dataframe tbody tr th {\n",
              "        vertical-align: top;\n",
              "    }\n",
              "\n",
              "    .dataframe thead th {\n",
              "        text-align: right;\n",
              "    }\n",
              "</style>\n",
              "<table border=\"1\" class=\"dataframe\">\n",
              "  <thead>\n",
              "    <tr style=\"text-align: right;\">\n",
              "      <th></th>\n",
              "      <th>reviews_por_mes</th>\n",
              "      <th>price</th>\n",
              "    </tr>\n",
              "    <tr>\n",
              "      <th>bairro_group</th>\n",
              "      <th></th>\n",
              "      <th></th>\n",
              "    </tr>\n",
              "  </thead>\n",
              "  <tbody>\n",
              "    <tr>\n",
              "      <th>Bronx</th>\n",
              "      <td>2.458037</td>\n",
              "      <td>120.922222</td>\n",
              "    </tr>\n",
              "    <tr>\n",
              "      <th>Queens</th>\n",
              "      <td>2.404122</td>\n",
              "      <td>145.417417</td>\n",
              "    </tr>\n",
              "    <tr>\n",
              "      <th>Staten Island</th>\n",
              "      <td>2.180444</td>\n",
              "      <td>123.296296</td>\n",
              "    </tr>\n",
              "    <tr>\n",
              "      <th>Brooklyn</th>\n",
              "      <td>1.784855</td>\n",
              "      <td>179.247701</td>\n",
              "    </tr>\n",
              "    <tr>\n",
              "      <th>Manhattan</th>\n",
              "      <td>1.534772</td>\n",
              "      <td>252.210936</td>\n",
              "    </tr>\n",
              "  </tbody>\n",
              "</table>\n",
              "</div>"
            ],
            "text/plain": [
              "               reviews_por_mes       price\n",
              "bairro_group                              \n",
              "Bronx                 2.458037  120.922222\n",
              "Queens                2.404122  145.417417\n",
              "Staten Island         2.180444  123.296296\n",
              "Brooklyn              1.784855  179.247701\n",
              "Manhattan             1.534772  252.210936"
            ]
          },
          "execution_count": 105,
          "metadata": {},
          "output_type": "execute_result"
        }
      ],
      "source": [
        "df_avaliações_região_disp = df_review_disp[['bairro_group','reviews_por_mes','price']]\\\n",
        "    .groupby(['bairro_group'])\\\n",
        "        .mean()\\\n",
        "        .sort_values(by=['reviews_por_mes','price'],ascending=False)\n",
        "\n",
        "df_avaliações_região_disp"
      ]
    },
    {
      "cell_type": "code",
      "execution_count": 106,
      "metadata": {},
      "outputs": [
        {
          "data": {
            "text/html": [
              "<div>\n",
              "<style scoped>\n",
              "    .dataframe tbody tr th:only-of-type {\n",
              "        vertical-align: middle;\n",
              "    }\n",
              "\n",
              "    .dataframe tbody tr th {\n",
              "        vertical-align: top;\n",
              "    }\n",
              "\n",
              "    .dataframe thead th {\n",
              "        text-align: right;\n",
              "    }\n",
              "</style>\n",
              "<table border=\"1\" class=\"dataframe\">\n",
              "  <thead>\n",
              "    <tr style=\"text-align: right;\">\n",
              "      <th></th>\n",
              "      <th>bairro_group</th>\n",
              "      <th>nome</th>\n",
              "      <th>reviews_por_mes</th>\n",
              "      <th>price</th>\n",
              "    </tr>\n",
              "  </thead>\n",
              "  <tbody>\n",
              "    <tr>\n",
              "      <th>36237</th>\n",
              "      <td>Queens</td>\n",
              "      <td>“For Heaven Cakes”</td>\n",
              "      <td>15.78</td>\n",
              "      <td>75</td>\n",
              "    </tr>\n",
              "    <tr>\n",
              "      <th>46936</th>\n",
              "      <td>Manhattan</td>\n",
              "      <td>★ AMAZING★  TIME SQUARE/ 2 Bedroom 3 Bed Apart...</td>\n",
              "      <td>14.00</td>\n",
              "      <td>500</td>\n",
              "    </tr>\n",
              "    <tr>\n",
              "      <th>44280</th>\n",
              "      <td>Brooklyn</td>\n",
              "      <td>2 bed.Full apartment. L Train.15 min away from...</td>\n",
              "      <td>13.33</td>\n",
              "      <td>99</td>\n",
              "    </tr>\n",
              "    <tr>\n",
              "      <th>25248</th>\n",
              "      <td>Queens</td>\n",
              "      <td>Private Guest Suite  Less than 10 min to JFK :)</td>\n",
              "      <td>13.27</td>\n",
              "      <td>50</td>\n",
              "    </tr>\n",
              "    <tr>\n",
              "      <th>37092</th>\n",
              "      <td>Queens</td>\n",
              "      <td>Beautiful furnished private studio with backyard</td>\n",
              "      <td>13.11</td>\n",
              "      <td>20</td>\n",
              "    </tr>\n",
              "  </tbody>\n",
              "</table>\n",
              "</div>"
            ],
            "text/plain": [
              "      bairro_group                                               nome  \\\n",
              "36237       Queens                                 “For Heaven Cakes”   \n",
              "46936    Manhattan  ★ AMAZING★  TIME SQUARE/ 2 Bedroom 3 Bed Apart...   \n",
              "44280     Brooklyn  2 bed.Full apartment. L Train.15 min away from...   \n",
              "25248       Queens    Private Guest Suite  Less than 10 min to JFK :)   \n",
              "37092       Queens   Beautiful furnished private studio with backyard   \n",
              "\n",
              "       reviews_por_mes  price  \n",
              "36237            15.78     75  \n",
              "46936            14.00    500  \n",
              "44280            13.33     99  \n",
              "25248            13.27     50  \n",
              "37092            13.11     20  "
            ]
          },
          "execution_count": 106,
          "metadata": {},
          "output_type": "execute_result"
        }
      ],
      "source": [
        "df_review_disp[['bairro_group','nome','reviews_por_mes','price']].sort_values(by = ['reviews_por_mes','price'],ascending=[False,True]).head(5)\n"
      ]
    },
    {
      "cell_type": "markdown",
      "metadata": {},
      "source": [
        "### A área do Bronx, em média, é a área com o melhor preço e maior quantidade de avaliações mensais, entre os locais com disponibilidade para alguel"
      ]
    },
    {
      "cell_type": "markdown",
      "metadata": {},
      "source": [
        "### Os locais com maiores avaliações são:"
      ]
    },
    {
      "cell_type": "code",
      "execution_count": 107,
      "metadata": {},
      "outputs": [
        {
          "data": {
            "text/html": [
              "<div>\n",
              "<style scoped>\n",
              "    .dataframe tbody tr th:only-of-type {\n",
              "        vertical-align: middle;\n",
              "    }\n",
              "\n",
              "    .dataframe tbody tr th {\n",
              "        vertical-align: top;\n",
              "    }\n",
              "\n",
              "    .dataframe thead th {\n",
              "        text-align: right;\n",
              "    }\n",
              "</style>\n",
              "<table border=\"1\" class=\"dataframe\">\n",
              "  <thead>\n",
              "    <tr style=\"text-align: right;\">\n",
              "      <th></th>\n",
              "      <th>bairro_group</th>\n",
              "      <th>nome</th>\n",
              "      <th>reviews_por_mes</th>\n",
              "      <th>price</th>\n",
              "    </tr>\n",
              "  </thead>\n",
              "  <tbody>\n",
              "    <tr>\n",
              "      <th>36237</th>\n",
              "      <td>Queens</td>\n",
              "      <td>“For Heaven Cakes”</td>\n",
              "      <td>15.78</td>\n",
              "      <td>75</td>\n",
              "    </tr>\n",
              "    <tr>\n",
              "      <th>46936</th>\n",
              "      <td>Manhattan</td>\n",
              "      <td>★ AMAZING★  TIME SQUARE/ 2 Bedroom 3 Bed Apart...</td>\n",
              "      <td>14.00</td>\n",
              "      <td>500</td>\n",
              "    </tr>\n",
              "    <tr>\n",
              "      <th>44280</th>\n",
              "      <td>Brooklyn</td>\n",
              "      <td>2 bed.Full apartment. L Train.15 min away from...</td>\n",
              "      <td>13.33</td>\n",
              "      <td>99</td>\n",
              "    </tr>\n",
              "    <tr>\n",
              "      <th>25248</th>\n",
              "      <td>Queens</td>\n",
              "      <td>Private Guest Suite  Less than 10 min to JFK :)</td>\n",
              "      <td>13.27</td>\n",
              "      <td>50</td>\n",
              "    </tr>\n",
              "    <tr>\n",
              "      <th>37092</th>\n",
              "      <td>Queens</td>\n",
              "      <td>Beautiful furnished private studio with backyard</td>\n",
              "      <td>13.11</td>\n",
              "      <td>20</td>\n",
              "    </tr>\n",
              "  </tbody>\n",
              "</table>\n",
              "</div>"
            ],
            "text/plain": [
              "      bairro_group                                               nome  \\\n",
              "36237       Queens                                 “For Heaven Cakes”   \n",
              "46936    Manhattan  ★ AMAZING★  TIME SQUARE/ 2 Bedroom 3 Bed Apart...   \n",
              "44280     Brooklyn  2 bed.Full apartment. L Train.15 min away from...   \n",
              "25248       Queens    Private Guest Suite  Less than 10 min to JFK :)   \n",
              "37092       Queens   Beautiful furnished private studio with backyard   \n",
              "\n",
              "       reviews_por_mes  price  \n",
              "36237            15.78     75  \n",
              "46936            14.00    500  \n",
              "44280            13.33     99  \n",
              "25248            13.27     50  \n",
              "37092            13.11     20  "
            ]
          },
          "execution_count": 107,
          "metadata": {},
          "output_type": "execute_result"
        }
      ],
      "source": [
        "df_review_disp[['bairro_group','nome','reviews_por_mes','price']].sort_values(by = ['reviews_por_mes','price'],ascending=[False,True]).head(5)"
      ]
    },
    {
      "cell_type": "markdown",
      "metadata": {},
      "source": [
        "## Identificando a correlação entre as variáveis "
      ]
    },
    {
      "cell_type": "code",
      "execution_count": 108,
      "metadata": {},
      "outputs": [],
      "source": [
        "# Gerando correlação entre as variáveis\n",
        "correlação = df[['price','minimo_noites','disponibilidade_365']].corr()"
      ]
    },
    {
      "cell_type": "code",
      "execution_count": 109,
      "metadata": {},
      "outputs": [
        {
          "data": {
            "image/png": "[encoded data removed]",
            "text/plain": [
              "<Figure size 800x600 with 2 Axes>"
            ]
          },
          "metadata": {},
          "output_type": "display_data"
        }
      ],
      "source": [
        "# Plotando gráfico de calor sobre as correlações entre as variáveis\n",
        "import seaborn as sns\n",
        "import matplotlib.pyplot as plt\n",
        "\n",
        "plt.figure(figsize=(8, 6))\n",
        "sns.heatmap(correlação, annot=True, cmap='coolwarm', fmt='.2f', linewidths=.5)\n",
        "plt.title('Mapa de Calor - Correlação entre Preço, Mínimo de Noites e Disponibilidade 365')\n",
        "plt.show()"
      ]
    },
    {
      "cell_type": "markdown",
      "metadata": {},
      "source": [
        "### Há um correlação positiva entre mínimo de noites, disponibilidade 365 e preço, porém o valor é baixo, indicando uma leve relação"
      ]
    },
    {
      "cell_type": "markdown",
      "metadata": {},
      "source": [
        "# Realizando previsões de preços"
      ]
    },
    {
      "cell_type": "markdown",
      "metadata": {},
      "source": [
        "## Seleção e preparação das variáveis"
      ]
    },
    {
      "cell_type": "markdown",
      "metadata": {},
      "source": [
        "Váriaveis escolhidas para treinamento do modelo:\n",
        "\n",
        "    - bairro                      \n",
        "    - room_type                         \n",
        "    - price                             \n",
        "    - minimo_noites                     \n",
        "    - numero_de_reviews \n",
        "    - reviews_por_mês                \n",
        "    - calculado_host_listings_count     \n",
        "    - disponibilidade_365               "
      ]
    },
    {
      "cell_type": "markdown",
      "metadata": {},
      "source": [
        "### As variáveis \"Bairro group\" e \" Room_type\" são categóricas, sendo necessário realizar o processo de dummies adicionando um valor de 0 ou 1 para cada categoria"
      ]
    },
    {
      "cell_type": "code",
      "execution_count": 110,
      "metadata": {},
      "outputs": [],
      "source": [
        "Df_previsão= df[~df[\"reviews_por_mes\"].isnull()]\n",
        "Df_previsão = Df_previsão[['bairro_group','room_type','price','minimo_noites','numero_de_reviews','calculado_host_listings_count','disponibilidade_365',\"reviews_por_mes\"]]\n",
        "Df_previsão = pd.get_dummies(Df_previsão).astype(float)"
      ]
    },
    {
      "cell_type": "code",
      "execution_count": 111,
      "metadata": {},
      "outputs": [
        {
          "data": {
            "text/html": [
              "<div>\n",
              "<style scoped>\n",
              "    .dataframe tbody tr th:only-of-type {\n",
              "        vertical-align: middle;\n",
              "    }\n",
              "\n",
              "    .dataframe tbody tr th {\n",
              "        vertical-align: top;\n",
              "    }\n",
              "\n",
              "    .dataframe thead th {\n",
              "        text-align: right;\n",
              "    }\n",
              "</style>\n",
              "<table border=\"1\" class=\"dataframe\">\n",
              "  <thead>\n",
              "    <tr style=\"text-align: right;\">\n",
              "      <th></th>\n",
              "      <th>price</th>\n",
              "      <th>minimo_noites</th>\n",
              "      <th>numero_de_reviews</th>\n",
              "      <th>calculado_host_listings_count</th>\n",
              "      <th>disponibilidade_365</th>\n",
              "      <th>reviews_por_mes</th>\n",
              "      <th>bairro_group_Bronx</th>\n",
              "      <th>bairro_group_Brooklyn</th>\n",
              "      <th>bairro_group_Manhattan</th>\n",
              "      <th>bairro_group_Queens</th>\n",
              "      <th>bairro_group_Staten Island</th>\n",
              "      <th>room_type_Entire home/apt</th>\n",
              "      <th>room_type_Private room</th>\n",
              "      <th>room_type_Shared room</th>\n",
              "    </tr>\n",
              "  </thead>\n",
              "  <tbody>\n",
              "    <tr>\n",
              "      <th>0</th>\n",
              "      <td>225.0</td>\n",
              "      <td>1.0</td>\n",
              "      <td>45.0</td>\n",
              "      <td>2.0</td>\n",
              "      <td>355.0</td>\n",
              "      <td>0.38</td>\n",
              "      <td>0.0</td>\n",
              "      <td>0.0</td>\n",
              "      <td>1.0</td>\n",
              "      <td>0.0</td>\n",
              "      <td>0.0</td>\n",
              "      <td>1.0</td>\n",
              "      <td>0.0</td>\n",
              "      <td>0.0</td>\n",
              "    </tr>\n",
              "    <tr>\n",
              "      <th>2</th>\n",
              "      <td>89.0</td>\n",
              "      <td>1.0</td>\n",
              "      <td>270.0</td>\n",
              "      <td>1.0</td>\n",
              "      <td>194.0</td>\n",
              "      <td>4.64</td>\n",
              "      <td>0.0</td>\n",
              "      <td>1.0</td>\n",
              "      <td>0.0</td>\n",
              "      <td>0.0</td>\n",
              "      <td>0.0</td>\n",
              "      <td>1.0</td>\n",
              "      <td>0.0</td>\n",
              "      <td>0.0</td>\n",
              "    </tr>\n",
              "    <tr>\n",
              "      <th>3</th>\n",
              "      <td>80.0</td>\n",
              "      <td>10.0</td>\n",
              "      <td>9.0</td>\n",
              "      <td>1.0</td>\n",
              "      <td>0.0</td>\n",
              "      <td>0.10</td>\n",
              "      <td>0.0</td>\n",
              "      <td>0.0</td>\n",
              "      <td>1.0</td>\n",
              "      <td>0.0</td>\n",
              "      <td>0.0</td>\n",
              "      <td>1.0</td>\n",
              "      <td>0.0</td>\n",
              "      <td>0.0</td>\n",
              "    </tr>\n",
              "  </tbody>\n",
              "</table>\n",
              "</div>"
            ],
            "text/plain": [
              "   price  minimo_noites  numero_de_reviews  calculado_host_listings_count  \\\n",
              "0  225.0            1.0               45.0                            2.0   \n",
              "2   89.0            1.0              270.0                            1.0   \n",
              "3   80.0           10.0                9.0                            1.0   \n",
              "\n",
              "   disponibilidade_365  reviews_por_mes  bairro_group_Bronx  \\\n",
              "0                355.0             0.38                 0.0   \n",
              "2                194.0             4.64                 0.0   \n",
              "3                  0.0             0.10                 0.0   \n",
              "\n",
              "   bairro_group_Brooklyn  bairro_group_Manhattan  bairro_group_Queens  \\\n",
              "0                    0.0                     1.0                  0.0   \n",
              "2                    1.0                     0.0                  0.0   \n",
              "3                    0.0                     1.0                  0.0   \n",
              "\n",
              "   bairro_group_Staten Island  room_type_Entire home/apt  \\\n",
              "0                         0.0                        1.0   \n",
              "2                         0.0                        1.0   \n",
              "3                         0.0                        1.0   \n",
              "\n",
              "   room_type_Private room  room_type_Shared room  \n",
              "0                     0.0                    0.0  \n",
              "2                     0.0                    0.0  \n",
              "3                     0.0                    0.0  "
            ]
          },
          "execution_count": 111,
          "metadata": {},
          "output_type": "execute_result"
        }
      ],
      "source": [
        "Df_previsão.head(3)"
      ]
    },
    {
      "cell_type": "code",
      "execution_count": 112,
      "metadata": {},
      "outputs": [
        {
          "data": {
            "text/plain": [
              "price                            0\n",
              "minimo_noites                    0\n",
              "numero_de_reviews                0\n",
              "calculado_host_listings_count    0\n",
              "disponibilidade_365              0\n",
              "reviews_por_mes                  0\n",
              "bairro_group_Bronx               0\n",
              "bairro_group_Brooklyn            0\n",
              "bairro_group_Manhattan           0\n",
              "bairro_group_Queens              0\n",
              "bairro_group_Staten Island       0\n",
              "room_type_Entire home/apt        0\n",
              "room_type_Private room           0\n",
              "room_type_Shared room            0\n",
              "dtype: int64"
            ]
          },
          "execution_count": 112,
          "metadata": {},
          "output_type": "execute_result"
        }
      ],
      "source": [
        "# Verificando se possui alguma informação vazia\n",
        "\n",
        "Df_previsão.isnull().sum()"
      ]
    },
    {
      "cell_type": "code",
      "execution_count": 113,
      "metadata": {},
      "outputs": [
        {
          "data": {
            "text/plain": [
              "430"
            ]
          },
          "execution_count": 113,
          "metadata": {},
          "output_type": "execute_result"
        }
      ],
      "source": [
        "Df_previsão[Df_previsão[\"price\"]>=650].count()[0]"
      ]
    },
    {
      "cell_type": "markdown",
      "metadata": {},
      "source": [
        "Apenas 323 dados com preço acima de R$650 estão no conjunto. Visando melhorar a qualidade do modelo, será removido os outliers "
      ]
    },
    {
      "cell_type": "code",
      "execution_count": 114,
      "metadata": {},
      "outputs": [],
      "source": [
        "Df_previsão = Df_previsão[Df_previsão[\"price\"]<=650]"
      ]
    },
    {
      "cell_type": "markdown",
      "metadata": {},
      "source": [
        "## Separação de dados para treino e teste"
      ]
    },
    {
      "cell_type": "code",
      "execution_count": 115,
      "metadata": {},
      "outputs": [],
      "source": [
        "# Valor alvo\n",
        "y = Df_previsão['price']\n",
        "\n",
        "# Variáveis de treino\n",
        "X = Df_previsão.drop(columns=['price'])"
      ]
    },
    {
      "cell_type": "code",
      "execution_count": 116,
      "metadata": {},
      "outputs": [],
      "source": [
        "from sklearn.model_selection import train_test_split\n",
        "X_train, X_test, y_train, y_test = train_test_split(X, y,\n",
        "                                                    train_size = 0.7,\n",
        "                                                    random_state = 19) "
      ]
    },
    {
      "cell_type": "markdown",
      "metadata": {},
      "source": [
        "## Criação do modelo"
      ]
    },
    {
      "cell_type": "markdown",
      "metadata": {},
      "source": [
        "### Por se tratar de um modelo de inferência de uma variável númerica, iremos utilizar um modelo de Regressão.\n",
        "\n",
        " Um modelo de árvores como RandomForest Regressor, no cenário médio, trará um bom treinamento sobre este tipo de problema. Porém modelos baseados em árvores, sem uma limitação podem acabar tendo um overfitting sobre os dados de treino.\n",
        "\n",
        "Para esse exemplo irei estar realizando a técnica ensemble stacking com a combinação de dois modelos:\n",
        " - AdaBoostRegressor\n",
        " - Linear Regression\n",
        "\n",
        "O AdaBoostRegressor trará um modelo de árvores adaptativo, corrigindo os pesos a cada iteração. Já o Linear Regression, será utilizado para lidar com valores que estão fora do range do treinamento do modelo de árvore, evitando valores \"estourados\" quando um imóvel tiver caracteristicas para um preço superior a R$650.\n",
        "\n",
        "Para a escolha dos melhores parâmetros de cada modelo, irei utilizar a técnica GridSearch que identifica a combinação que tem o menor valor de erro."
      ]
    },
    {
      "cell_type": "code",
      "execution_count": 117,
      "metadata": {},
      "outputs": [],
      "source": [
        "# Importando bibliotecas\n",
        "from sklearn.model_selection import GridSearchCV\n",
        "from sklearn.ensemble import AdaBoostRegressor\n",
        "from sklearn.linear_model import LinearRegression\n",
        "from sklearn.ensemble import StackingRegressor"
      ]
    },
    {
      "cell_type": "code",
      "execution_count": 118,
      "metadata": {},
      "outputs": [],
      "source": [
        "# Declarando os modelos\n",
        "adaboost = AdaBoostRegressor()\n",
        "linear_reg = LinearRegression()"
      ]
    },
    {
      "cell_type": "code",
      "execution_count": 119,
      "metadata": {},
      "outputs": [],
      "source": [
        "# Definindo parâmetros para o GridSearch\n",
        "\n",
        "parametros_adaboost = {\n",
        "    'n_estimators': [50, 100, 200],\n",
        "    'learning_rate': [0.01, 0.1, 0.5, 1.0]\n",
        "}\n",
        "\n",
        "#Utilizando o erro quadrático médio como validador e cross validation de 5 partições\n",
        "grid_search_adaboost = GridSearchCV(adaboost, parametros_adaboost, scoring='neg_mean_squared_error', cv= 5)\n"
      ]
    },
    {
      "cell_type": "code",
      "execution_count": 120,
      "metadata": {},
      "outputs": [],
      "source": [
        "# Treinando os modelos\n",
        "\n",
        "Modelo_linear_reg = linear_reg.fit(X_train,y_train)\n",
        "grid_search_adaboost.fit(X_train,y_train)\n",
        "Modelo_melhor_adaboost = grid_search_adaboost.best_estimator_"
      ]
    },
    {
      "cell_type": "code",
      "execution_count": 121,
      "metadata": {},
      "outputs": [
        {
          "data": {
            "text/html": [
              "<style>#sk-container-id-3 {color: black;}#sk-container-id-3 pre{padding: 0;}#sk-container-id-3 div.sk-toggleable {background-color: white;}#sk-container-id-3 label.sk-toggleable__label {cursor: pointer;display: block;width: 100%;margin-bottom: 0;padding: 0.3em;box-sizing: border-box;text-align: center;}#sk-container-id-3 label.sk-toggleable__label-arrow:before {content: \"▸\";float: left;margin-right: 0.25em;color: #696969;}#sk-container-id-3 label.sk-toggleable__label-arrow:hover:before {color: black;}#sk-container-id-3 div.sk-estimator:hover label.sk-toggleable__label-arrow:before {color: black;}#sk-container-id-3 div.sk-toggleable__content {max-height: 0;max-width: 0;overflow: hidden;text-align: left;background-color: #f0f8ff;}#sk-container-id-3 div.sk-toggleable__content pre {margin: 0.2em;color: black;border-radius: 0.25em;background-color: #f0f8ff;}#sk-container-id-3 input.sk-toggleable__control:checked~div.sk-toggleable__content {max-height: 200px;max-width: 100%;overflow: auto;}#sk-container-id-3 input.sk-toggleable__control:checked~label.sk-toggleable__label-arrow:before {content: \"▾\";}#sk-container-id-3 div.sk-estimator input.sk-toggleable__control:checked~label.sk-toggleable__label {background-color: #d4ebff;}#sk-container-id-3 div.sk-label input.sk-toggleable__control:checked~label.sk-toggleable__label {background-color: #d4ebff;}#sk-container-id-3 input.sk-hidden--visually {border: 0;clip: rect(1px 1px 1px 1px);clip: rect(1px, 1px, 1px, 1px);height: 1px;margin: -1px;overflow: hidden;padding: 0;position: absolute;width: 1px;}#sk-container-id-3 div.sk-estimator {font-family: monospace;background-color: #f0f8ff;border: 1px dotted black;border-radius: 0.25em;box-sizing: border-box;margin-bottom: 0.5em;}#sk-container-id-3 div.sk-estimator:hover {background-color: #d4ebff;}#sk-container-id-3 div.sk-parallel-item::after {content: \"\";width: 100%;border-bottom: 1px solid gray;flex-grow: 1;}#sk-container-id-3 div.sk-label:hover label.sk-toggleable__label {background-color: #d4ebff;}#sk-container-id-3 div.sk-serial::before {content: \"\";position: absolute;border-left: 1px solid gray;box-sizing: border-box;top: 0;bottom: 0;left: 50%;z-index: 0;}#sk-container-id-3 div.sk-serial {display: flex;flex-direction: column;align-items: center;background-color: white;padding-right: 0.2em;padding-left: 0.2em;position: relative;}#sk-container-id-3 div.sk-item {position: relative;z-index: 1;}#sk-container-id-3 div.sk-parallel {display: flex;align-items: stretch;justify-content: center;background-color: white;position: relative;}#sk-container-id-3 div.sk-item::before, #sk-container-id-3 div.sk-parallel-item::before {content: \"\";position: absolute;border-left: 1px solid gray;box-sizing: border-box;top: 0;bottom: 0;left: 50%;z-index: -1;}#sk-container-id-3 div.sk-parallel-item {display: flex;flex-direction: column;z-index: 1;position: relative;background-color: white;}#sk-container-id-3 div.sk-parallel-item:first-child::after {align-self: flex-end;width: 50%;}#sk-container-id-3 div.sk-parallel-item:last-child::after {align-self: flex-start;width: 50%;}#sk-container-id-3 div.sk-parallel-item:only-child::after {width: 0;}#sk-container-id-3 div.sk-dashed-wrapped {border: 1px dashed gray;margin: 0 0.4em 0.5em 0.4em;box-sizing: border-box;padding-bottom: 0.4em;background-color: white;}#sk-container-id-3 div.sk-label label {font-family: monospace;font-weight: bold;display: inline-block;line-height: 1.2em;}#sk-container-id-3 div.sk-label-container {text-align: center;}#sk-container-id-3 div.sk-container {/* jupyter's `normalize.less` sets `[hidden] { display: none; }` but bootstrap.min.css set `[hidden] { display: none !important; }` so we also need the `!important` here to be able to override the default hidden behavior on the sphinx rendered scikit-learn.org. See: https://github.com/scikit-learn/scikit-learn/issues/21755 */display: inline-block !important;position: relative;}#sk-container-id-3 div.sk-text-repr-fallback {display: none;}</style><div id=\"sk-container-id-3\" class=\"sk-top-container\"><div class=\"sk-text-repr-fallback\"><pre>StackingRegressor(estimators=[(&#x27;adaboost&#x27;,\n",
              "                               AdaBoostRegressor(learning_rate=0.01)),\n",
              "                              (&#x27;linear_reg&#x27;, LinearRegression())],\n",
              "                  final_estimator=LinearRegression())</pre><b>In a Jupyter environment, please rerun this cell to show the HTML representation or trust the notebook. <br />On GitHub, the HTML representation is unable to render, please try loading this page with nbviewer.org.</b></div><div class=\"sk-container\" hidden><div class=\"sk-item sk-dashed-wrapped\"><div class=\"sk-label-container\"><div class=\"sk-label sk-toggleable\"><input class=\"sk-toggleable__control sk-hidden--visually\" id=\"sk-estimator-id-9\" type=\"checkbox\" ><label for=\"sk-estimator-id-9\" class=\"sk-toggleable__label sk-toggleable__label-arrow\">StackingRegressor</label><div class=\"sk-toggleable__content\"><pre>StackingRegressor(estimators=[(&#x27;adaboost&#x27;,\n",
              "                               AdaBoostRegressor(learning_rate=0.01)),\n",
              "                              (&#x27;linear_reg&#x27;, LinearRegression())],\n",
              "                  final_estimator=LinearRegression())</pre></div></div></div><div class=\"sk-serial\"><div class=\"sk-item\"><div class=\"sk-parallel\"><div class=\"sk-parallel-item\"><div class=\"sk-item\"><div class=\"sk-label-container\"><div class=\"sk-label sk-toggleable\"><label>adaboost</label></div></div><div class=\"sk-serial\"><div class=\"sk-item\"><div class=\"sk-estimator sk-toggleable\"><input class=\"sk-toggleable__control sk-hidden--visually\" id=\"sk-estimator-id-10\" type=\"checkbox\" ><label for=\"sk-estimator-id-10\" class=\"sk-toggleable__label sk-toggleable__label-arrow\">AdaBoostRegressor</label><div class=\"sk-toggleable__content\"><pre>AdaBoostRegressor(learning_rate=0.01)</pre></div></div></div></div></div></div><div class=\"sk-parallel-item\"><div class=\"sk-item\"><div class=\"sk-label-container\"><div class=\"sk-label sk-toggleable\"><label>linear_reg</label></div></div><div class=\"sk-serial\"><div class=\"sk-item\"><div class=\"sk-estimator sk-toggleable\"><input class=\"sk-toggleable__control sk-hidden--visually\" id=\"sk-estimator-id-11\" type=\"checkbox\" ><label for=\"sk-estimator-id-11\" class=\"sk-toggleable__label sk-toggleable__label-arrow\">LinearRegression</label><div class=\"sk-toggleable__content\"><pre>LinearRegression()</pre></div></div></div></div></div></div></div></div><div class=\"sk-item\"><div class=\"sk-parallel\"><div class=\"sk-parallel-item\"><div class=\"sk-item\"><div class=\"sk-label-container\"><div class=\"sk-label sk-toggleable\"><label>final_estimator</label></div></div><div class=\"sk-serial\"><div class=\"sk-item\"><div class=\"sk-estimator sk-toggleable\"><input class=\"sk-toggleable__control sk-hidden--visually\" id=\"sk-estimator-id-12\" type=\"checkbox\" ><label for=\"sk-estimator-id-12\" class=\"sk-toggleable__label sk-toggleable__label-arrow\">LinearRegression</label><div class=\"sk-toggleable__content\"><pre>LinearRegression()</pre></div></div></div></div></div></div></div></div></div></div></div></div>"
            ],
            "text/plain": [
              "StackingRegressor(estimators=[('adaboost',\n",
              "                               AdaBoostRegressor(learning_rate=0.01)),\n",
              "                              ('linear_reg', LinearRegression())],\n",
              "                  final_estimator=LinearRegression())"
            ]
          },
          "execution_count": 121,
          "metadata": {},
          "output_type": "execute_result"
        }
      ],
      "source": [
        "# Criando o ensemble Stacking Regressor, juntando os 2 modelo e utilizando o Modelo_linear_reg como validador final\n",
        "\n",
        "ensemble = StackingRegressor(\n",
        "    estimators=[\n",
        "        ('adaboost', Modelo_melhor_adaboost),\n",
        "        ('linear_reg', Modelo_linear_reg)\n",
        "    ],\n",
        "    final_estimator=LinearRegression()\n",
        ")\n",
        "\n",
        "#Treinando modelo\n",
        "ensemble.fit(X_train, y_train)"
      ]
    },
    {
      "cell_type": "markdown",
      "metadata": {},
      "source": [
        "## Validando Modelo\n",
        "Para validar o modelo estaremos comparando o seu erro médio quadrado"
      ]
    },
    {
      "cell_type": "code",
      "execution_count": 122,
      "metadata": {},
      "outputs": [],
      "source": [
        "from sklearn.metrics import mean_squared_error\n",
        "import numpy as np \n",
        "\n",
        "previsões_test = ensemble.predict(X_test)\n",
        "previsões_treino = ensemble.predict(X_train)"
      ]
    },
    {
      "cell_type": "code",
      "execution_count": 123,
      "metadata": {},
      "outputs": [
        {
          "name": "stdout",
          "output_type": "stream",
          "text": [
            "Erro médio dos dados de treino pelo modelo Ensemble Stacking: R$71.89\n",
            "Erro médio dos dados de teste pelo modelo Ensemble Stacking: R$71.8\n"
          ]
        }
      ],
      "source": [
        "mse_treino = mean_squared_error(y_train, previsões_treino)\n",
        "mse_teste= mean_squared_error(y_test, previsões_test)\n",
        "\n",
        "print(f'Erro médio dos dados de treino pelo modelo Ensemble Stacking: R${np.sqrt(mse_treino).round(2)}')\n",
        "print(f'Erro médio dos dados de teste pelo modelo Ensemble Stacking: R${np.sqrt(mse_teste).round(2)}')\n"
      ]
    },
    {
      "cell_type": "code",
      "execution_count": 124,
      "metadata": {},
      "outputs": [
        {
          "name": "stdout",
          "output_type": "stream",
          "text": [
            "Valor predito R$43.77, Valor Real R$30.00\n",
            "Valor predito R$188.71, Valor Real R$185.00\n",
            "Valor predito R$155.46, Valor Real R$146.00\n",
            "Valor predito R$101.67, Valor Real R$123.00\n",
            "Valor predito R$96.94, Valor Real R$65.00\n",
            "Valor predito R$96.51, Valor Real R$80.00\n",
            "Valor predito R$60.37, Valor Real R$47.00\n",
            "Valor predito R$147.18, Valor Real R$254.00\n",
            "Valor predito R$108.26, Valor Real R$150.00\n",
            "Valor predito R$63.69, Valor Real R$65.00\n"
          ]
        }
      ],
      "source": [
        "for i in range(50,60):\n",
        "    print('Valor predito R${:.2f}, Valor Real R${:.2f}'.format(\n",
        "        ensemble.predict(X_test.iloc[i].to_frame().transpose())[0],\n",
        "        y_test.iloc[i]\n",
        "    ))"
      ]
    },
    {
      "cell_type": "markdown",
      "metadata": {},
      "source": [
        "## Testando dado fornecido"
      ]
    },
    {
      "cell_type": "code",
      "execution_count": 125,
      "metadata": {},
      "outputs": [],
      "source": [
        "dados = pd.DataFrame({\n",
        "    'id': [2595],\n",
        "    'nome': ['Skylit Midtown Castle'],\n",
        "    'host_id': [2845],\n",
        "    'host_name': ['Jennifer'],\n",
        "    'bairro_group': ['Manhattan'],\n",
        "    'bairro': ['Midtown'],\n",
        "    'latitude': [40.75362],\n",
        "    'longitude': [-73.98377],\n",
        "    'room_type': ['Entire home/apt'],\n",
        "    'price': [225],\n",
        "    'minimo_noites': [1],\n",
        "    'numero_de_reviews': [45],\n",
        "    'ultima_review': ['2019-05-21'],\n",
        "    'reviews_por_mes': [0.38],\n",
        "    'calculado_host_listings_count': [2],\n",
        "    'disponibilidade_365': [355]\n",
        "})"
      ]
    },
    {
      "cell_type": "code",
      "execution_count": 126,
      "metadata": {},
      "outputs": [],
      "source": [
        "def prever_valor(df, model, estrutura):\n",
        "\n",
        "    df = df[['bairro_group', 'room_type', 'price', 'minimo_noites', 'numero_de_reviews', 'calculado_host_listings_count', 'disponibilidade_365', 'reviews_por_mes']]\n",
        "    df = pd.get_dummies(df).astype(float)\n",
        "    df_predict = df.drop(columns=\"price\")\n",
        "\n",
        "    nova_linha = pd.Series(0, index=estrutura.columns)\n",
        "    nova_linha[df_predict.columns] = df_predict.iloc[0]\n",
        "    \n",
        "    # Criar uma cópia do DataFrame estrutura antes de fazer alterações\n",
        "    estrutura_copia = estrutura.copy()\n",
        "    \n",
        "    # Adicionar a nova linha usando loc na cópia\n",
        "    estrutura_copia.loc[len(estrutura)] = nova_linha\n",
        "\n",
        "    previsão = model.predict(estrutura_copia)\n",
        "    print('Valor predito R${:.2f}, Valor Real R${:.2f}'.format(\n",
        "        previsão[0],\n",
        "        df[\"price\"].iloc[0]\n",
        "    ))\n"
      ]
    },
    {
      "cell_type": "code",
      "execution_count": 127,
      "metadata": {},
      "outputs": [
        {
          "name": "stdout",
          "output_type": "stream",
          "text": [
            "Valor predito R$225.83, Valor Real R$225.00\n"
          ]
        }
      ],
      "source": [
        "prever_valor(dados,ensemble,X_test.head(0))"
      ]
    },
    {
      "cell_type": "markdown",
      "metadata": {},
      "source": [
        "### O modelo gerado conseguiu prever um valor aproximado (R$ 225,83) em relação ao real (R$ 225,00) com uma margem de erro de R$ 0,83"
      ]
    },
    {
      "cell_type": "markdown",
      "metadata": {},
      "source": [
        "### Para utilização em produção do modelo, seria necessário a realização de mais testes, junto a montagem do pipeline e calibração dos parâmetros, antes de realizar o deploy via docker em um ambiente de nuvem."
      ]
    },
    {
      "cell_type": "code",
      "execution_count": 132,
      "metadata": {},
      "outputs": [],
      "source": [
        "# Salvar Modelo\n",
        "\n",
        "\"\"\"import pickle\n",
        "with open(\"modelo.pkl\", \"wb\") as f:\n",
        "    pickle.dump(ensemble, f) \"\"\""
      ]
    },
    {
      "cell_type": "code",
      "execution_count": 141,
      "metadata": {},
      "outputs": [],
      "source": [
        "\"\"\"# Instalar bibliotecas\n",
        "!pip install -r requirements.txt \"\"\""
      ]
    },
    {
      "cell_type": "code",
      "execution_count": null,
      "metadata": {},
      "outputs": [],
      "source": [
        "\"\"\"# Rodar modelo\n",
        "\n",
        "import pickle\n",
        "\n",
        "# Carregar o modelo\n",
        "with open(\"modelo.pkl\", \"rb\") as f:\n",
        "    model = pickle.load(f)\n",
        "\n",
        "# Fazer previsões\n",
        "\n",
        "# Utilizando a função \n",
        "prever_valor(dados,model,X_test.head(0)) \"\"\""
      ]
    },
    {
      "cell_type": "code",
      "execution_count": null,
      "metadata": {},
      "outputs": [],
      "source": []
    }
  ],
  "metadata": {
    "colab": {
      "provenance": []
    },
    "kernelspec": {
      "display_name": "Python 3",
      "name": "python3"
    },
    "language_info": {
      "codemirror_mode": {
        "name": "ipython",
        "version": 3
      },
      "file_extension": ".py",
      "mimetype": "text/x-python",
      "name": "python",
      "nbconvert_exporter": "python",
      "pygments_lexer": "ipython3",
      "version": "3.11.5"
    }
  },
  "nbformat": 4,
  "nbformat_minor": 0
}
